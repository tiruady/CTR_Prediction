{
 "cells": [
  {
   "cell_type": "code",
   "execution_count": null,
   "metadata": {},
   "outputs": [],
   "source": []
  },
  {
   "cell_type": "code",
   "execution_count": 1,
   "metadata": {},
   "outputs": [
    {
     "name": "stdout",
     "output_type": "stream",
     "text": [
      "--2020-11-23 15:09:51--  http://snap.stanford.edu/data/amazon/productGraph/categoryFiles/reviews_Electronics_5.json.gz\n",
      "Resolving snap.stanford.edu... 171.64.75.80\n",
      "Connecting to snap.stanford.edu|171.64.75.80|:80... connected.\n",
      "HTTP request sent, awaiting response... 200 OK\n",
      "Length: 495854086 (473M) [application/x-gzip]\n",
      "Saving to: ‘reviews_Electronics_5.json.gz’\n",
      "\n",
      "reviews_Electronics 100%[===================>] 472.88M  5.82MB/s    in 71s     \n",
      "\n",
      "2020-11-23 15:11:02 (6.67 MB/s) - ‘reviews_Electronics_5.json.gz’ saved [495854086/495854086]\n",
      "\n"
     ]
    }
   ],
   "source": [
    "!wget -c http://snap.stanford.edu/data/amazon/productGraph/categoryFiles/reviews_Electronics_5.json.gz\n",
    "# gzip -d reviews_Electronics_5.json.gz\n",
    "# wget -c http://snap.stanford.edu/data/amazon/productGraph/categoryFiles/meta_Electronics.json.gz\n",
    "# gzip -d meta_Electronics.json.gz"
   ]
  },
  {
   "cell_type": "code",
   "execution_count": 2,
   "metadata": {},
   "outputs": [],
   "source": [
    "!gzip -d reviews_Electronics_5.json.gz\n"
   ]
  },
  {
   "cell_type": "code",
   "execution_count": 3,
   "metadata": {},
   "outputs": [
    {
     "name": "stdout",
     "output_type": "stream",
     "text": [
      "--2020-11-23 15:11:38--  http://snap.stanford.edu/data/amazon/productGraph/categoryFiles/meta_Electronics.json.gz\n",
      "Resolving snap.stanford.edu... 171.64.75.80\n",
      "Connecting to snap.stanford.edu|171.64.75.80|:80... connected.\n",
      "HTTP request sent, awaiting response... 200 OK\n",
      "Length: 186594679 (178M) [application/x-gzip]\n",
      "Saving to: ‘meta_Electronics.json.gz’\n",
      "\n",
      "meta_Electronics.js 100%[===================>] 177.95M  7.36MB/s    in 28s     \n",
      "\n",
      "2020-11-23 15:12:06 (6.46 MB/s) - ‘meta_Electronics.json.gz’ saved [186594679/186594679]\n",
      "\n"
     ]
    }
   ],
   "source": [
    "!wget -c http://snap.stanford.edu/data/amazon/productGraph/categoryFiles/meta_Electronics.json.gz\n"
   ]
  },
  {
   "cell_type": "code",
   "execution_count": 4,
   "metadata": {},
   "outputs": [],
   "source": [
    "!gzip -d meta_Electronics.json.gz"
   ]
  },
  {
   "cell_type": "code",
   "execution_count": 5,
   "metadata": {},
   "outputs": [
    {
     "name": "stdout",
     "output_type": "stream",
     "text": [
      "AzureML   Untitled.ipynb  fastbook  meta_Electronics.json\r\n",
      "MMLSpark  catboost\t  h2o\t    pytorch\r\n",
      "SparkML   course-v4\t  julia     reviews_Electronics_5.json\r\n"
     ]
    }
   ],
   "source": [
    "!ls"
   ]
  },
  {
   "cell_type": "code",
   "execution_count": 6,
   "metadata": {},
   "outputs": [
    {
     "name": "stdout",
     "output_type": "stream",
     "text": [
      "/home/fastuser/notebooks\r\n"
     ]
    }
   ],
   "source": [
    "!pwd"
   ]
  },
  {
   "cell_type": "code",
   "execution_count": 1,
   "metadata": {},
   "outputs": [],
   "source": [
    "import pickle\n",
    "import pandas as pd\n",
    "true=True\n",
    "false=False\n",
    "def to_df(file_path):\n",
    "  with open(file_path, 'r') as fin:\n",
    "    df = {}\n",
    "    i = 0\n",
    "    for line in fin:\n",
    "      df[i] = eval(line)\n",
    "      i += 1\n",
    "    df = pd.DataFrame.from_dict(df, orient='index')\n",
    "    return df\n",
    "\n",
    "reviews_df = to_df('/home/fastuser/notebooks/reviews_Electronics_5.json')\n",
    "with open('/home/fastuser/notebooks/reviews.pkl', 'wb') as f:\n",
    "  pickle.dump(reviews_df, f, pickle.HIGHEST_PROTOCOL)\n",
    "\n",
    "meta_df = to_df('/home/fastuser/notebooks/meta_Electronics.json')\n",
    "meta_df = meta_df[meta_df['asin'].isin(reviews_df['asin'].unique())]\n",
    "meta_df = meta_df.reset_index(drop=True)\n",
    "with open('/home/fastuser/notebooks/meta.pkl', 'wb') as f:\n",
    "  pickle.dump(meta_df, f, pickle.HIGHEST_PROTOCOL)"
   ]
  },
  {
   "cell_type": "code",
   "execution_count": 2,
   "metadata": {},
   "outputs": [
    {
     "name": "stdout",
     "output_type": "stream",
     "text": [
      "user_count: 192403\titem_count: 63001\tcate_count: 801\texample_count: 1689188\n"
     ]
    }
   ],
   "source": [
    "import random\n",
    "import pickle\n",
    "import numpy as np\n",
    "\n",
    "random.seed(1234)\n",
    "\n",
    "with open('/home/fastuser/notebooks/reviews.pkl', 'rb') as f:\n",
    "  reviews_df = pickle.load(f)\n",
    "  reviews_df = reviews_df[['reviewerID', 'asin', 'unixReviewTime']]\n",
    "with open('/home/fastuser/notebooks/meta.pkl', 'rb') as f:\n",
    "  meta_df = pickle.load(f)\n",
    "  meta_df = meta_df[['asin', 'categories']]\n",
    "  meta_df['categories'] = meta_df['categories'].map(lambda x: x[-1][-1])\n",
    "\n",
    "\n",
    "def build_map(df, col_name):\n",
    "  key = sorted(df[col_name].unique().tolist())\n",
    "  m = dict(zip(key, range(len(key))))\n",
    "  df[col_name] = df[col_name].map(lambda x: m[x])\n",
    "  return m, key\n",
    "\n",
    "asin_map, asin_key = build_map(meta_df, 'asin')\n",
    "cate_map, cate_key = build_map(meta_df, 'categories')\n",
    "revi_map, revi_key = build_map(reviews_df, 'reviewerID')\n",
    "\n",
    "user_count, item_count, cate_count, example_count =\\\n",
    "    len(revi_map), len(asin_map), len(cate_map), reviews_df.shape[0]\n",
    "print('user_count: %d\\titem_count: %d\\tcate_count: %d\\texample_count: %d' %\n",
    "      (user_count, item_count, cate_count, example_count))\n",
    "\n",
    "meta_df = meta_df.sort_values('asin')\n",
    "meta_df = meta_df.reset_index(drop=True)\n",
    "reviews_df['asin'] = reviews_df['asin'].map(lambda x: asin_map[x])\n",
    "reviews_df = reviews_df.sort_values(['reviewerID', 'unixReviewTime'])\n",
    "reviews_df = reviews_df.reset_index(drop=True)\n",
    "reviews_df = reviews_df[['reviewerID', 'asin', 'unixReviewTime']]\n",
    "\n",
    "cate_list = [meta_df['categories'][i] for i in range(len(asin_map))]\n",
    "cate_list = np.array(cate_list, dtype=np.int32)\n",
    "\n",
    "\n",
    "with open('/home/fastuser/notebooks/remap.pkl', 'wb') as f:\n",
    "  pickle.dump(reviews_df, f, pickle.HIGHEST_PROTOCOL) # uid, iid\n",
    "  pickle.dump(cate_list, f, pickle.HIGHEST_PROTOCOL) # cid of iid line\n",
    "  pickle.dump((user_count, item_count, cate_count, example_count),\n",
    "              f, pickle.HIGHEST_PROTOCOL)\n",
    "  pickle.dump((asin_key, cate_key, revi_key), f, pickle.HIGHEST_PROTOCOL)"
   ]
  },
  {
   "cell_type": "code",
   "execution_count": 3,
   "metadata": {},
   "outputs": [],
   "source": [
    "import random\n",
    "import pickle\n",
    "\n",
    "random.seed(1234)\n",
    "\n",
    "with open('/home/fastuser/notebooks/remap.pkl', 'rb') as f:\n",
    "  reviews_df = pickle.load(f)\n",
    "  cate_list = pickle.load(f)\n",
    "  user_count, item_count, cate_count, example_count = pickle.load(f)\n",
    "\n",
    "train_set = []\n",
    "test_set = []\n",
    "for reviewerID, hist in reviews_df.groupby('reviewerID'):\n",
    "  pos_list = hist['asin'].tolist()\n",
    "  def gen_neg():\n",
    "    neg = pos_list[0]\n",
    "    while neg in pos_list:\n",
    "      neg = random.randint(0, item_count-1)\n",
    "    return neg\n",
    "  neg_list = [gen_neg() for i in range(len(pos_list))]\n",
    "\n",
    "  for i in range(1, len(pos_list)):\n",
    "    hist = pos_list[:i]\n",
    "    if i != len(pos_list) - 1:\n",
    "      train_set.append((reviewerID, hist, pos_list[i], 1))\n",
    "      train_set.append((reviewerID, hist, neg_list[i], 0))\n",
    "    else:\n",
    "      label = (pos_list[i], neg_list[i])\n",
    "      test_set.append((reviewerID, hist, label))\n",
    "\n",
    "random.shuffle(train_set)\n",
    "random.shuffle(test_set)\n",
    "\n",
    "assert len(test_set) == user_count\n",
    "# assert(len(test_set) + len(train_set) // 2 == reviews_df.shape[0])\n",
    "\n",
    "with open('/home/fastuser/notebooks/dataset.pkl', 'wb') as f:\n",
    "  pickle.dump(train_set, f, pickle.HIGHEST_PROTOCOL)\n",
    "  pickle.dump(test_set, f, pickle.HIGHEST_PROTOCOL)\n",
    "  pickle.dump(cate_list, f, pickle.HIGHEST_PROTOCOL)\n",
    "  pickle.dump((user_count, item_count, cate_count), f, pickle.HIGHEST_PROTOCOL)"
   ]
  },
  {
   "cell_type": "code",
   "execution_count": null,
   "metadata": {},
   "outputs": [],
   "source": []
  }
 ],
 "metadata": {
  "kernelspec": {
   "display_name": "py37_tensorflow",
   "language": "python",
   "name": "conda-env-py37_tensorflow-py"
  },
  "language_info": {
   "codemirror_mode": {
    "name": "ipython",
    "version": 3
   },
   "file_extension": ".py",
   "mimetype": "text/x-python",
   "name": "python",
   "nbconvert_exporter": "python",
   "pygments_lexer": "ipython3",
   "version": "3.7.9"
  }
 },
 "nbformat": 4,
 "nbformat_minor": 4
}
