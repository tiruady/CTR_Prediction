{
  "nbformat": 4,
  "nbformat_minor": 0,
  "metadata": {
    "colab": {
      "name": "Untitled10.ipynb",
      "provenance": []
    },
    "kernelspec": {
      "name": "python3",
      "display_name": "Python 3"
    }
  },
  "cells": [
    {
      "cell_type": "markdown",
      "metadata": {
        "id": "Icb6EUEqQINJ"
      },
      "source": [
        "##Loading Data\n"
      ]
    },
    {
      "cell_type": "code",
      "metadata": {
        "id": "8tfc2UG7o6eE"
      },
      "source": [
        "import pickle\n",
        "with open('/content/drive/MyDrive/amz_dataset/dataset.pkl', 'rb') as f:\n",
        "  train_set = pickle.load(f)\n",
        "  test_set = pickle.load(f)\n",
        "  cate_list = pickle.load(f)\n",
        "  user_count, item_count, cate_count = pickle.load(f)\n"
      ],
      "execution_count": 3,
      "outputs": []
    },
    {
      "cell_type": "code",
      "metadata": {
        "colab": {
          "base_uri": "https://localhost:8080/"
        },
        "id": "Z_ScqZpHB2RP",
        "outputId": "168cab4a-7c2b-43cb-a9c0-5b22db042d53"
      },
      "source": [
        "from google.colab import drive\n",
        "drive.mount('/content/drive')"
      ],
      "execution_count": 2,
      "outputs": [
        {
          "output_type": "stream",
          "text": [
            "Mounted at /content/drive\n"
          ],
          "name": "stdout"
        }
      ]
    },
    {
      "cell_type": "code",
      "metadata": {
        "id": "v-ODm8o5B2ws"
      },
      "source": [
        "import pandas as pd\n",
        "df=pd.DataFrame()\n",
        "for i in range(10000):\n",
        "  ii=train_set[i]\n",
        "  # for j in ii[1]\n",
        "  df=df.append([[ii[0],ii[1][0],ii[2],ii[3]]])"
      ],
      "execution_count": 4,
      "outputs": []
    },
    {
      "cell_type": "code",
      "metadata": {
        "id": "zTdBYyywHied"
      },
      "source": [
        "df.columns=[\"C1\",\"C2\",\"C3\",\"Label\"]"
      ],
      "execution_count": 5,
      "outputs": []
    },
    {
      "cell_type": "code",
      "metadata": {
        "colab": {
          "base_uri": "https://localhost:8080/",
          "height": 195
        },
        "id": "TvczUG_LHnho",
        "outputId": "d093525c-7350-4ca8-84d5-0f6c6bc693b9"
      },
      "source": [
        "df.head()"
      ],
      "execution_count": 6,
      "outputs": [
        {
          "output_type": "execute_result",
          "data": {
            "text/html": [
              "<div>\n",
              "<style scoped>\n",
              "    .dataframe tbody tr th:only-of-type {\n",
              "        vertical-align: middle;\n",
              "    }\n",
              "\n",
              "    .dataframe tbody tr th {\n",
              "        vertical-align: top;\n",
              "    }\n",
              "\n",
              "    .dataframe thead th {\n",
              "        text-align: right;\n",
              "    }\n",
              "</style>\n",
              "<table border=\"1\" class=\"dataframe\">\n",
              "  <thead>\n",
              "    <tr style=\"text-align: right;\">\n",
              "      <th></th>\n",
              "      <th>C1</th>\n",
              "      <th>C2</th>\n",
              "      <th>C3</th>\n",
              "      <th>Label</th>\n",
              "    </tr>\n",
              "  </thead>\n",
              "  <tbody>\n",
              "    <tr>\n",
              "      <th>0</th>\n",
              "      <td>103944</td>\n",
              "      <td>17704</td>\n",
              "      <td>53346</td>\n",
              "      <td>0</td>\n",
              "    </tr>\n",
              "    <tr>\n",
              "      <th>0</th>\n",
              "      <td>126219</td>\n",
              "      <td>15082</td>\n",
              "      <td>48620</td>\n",
              "      <td>0</td>\n",
              "    </tr>\n",
              "    <tr>\n",
              "      <th>0</th>\n",
              "      <td>21022</td>\n",
              "      <td>11725</td>\n",
              "      <td>2179</td>\n",
              "      <td>0</td>\n",
              "    </tr>\n",
              "    <tr>\n",
              "      <th>0</th>\n",
              "      <td>134145</td>\n",
              "      <td>4952</td>\n",
              "      <td>55798</td>\n",
              "      <td>1</td>\n",
              "    </tr>\n",
              "    <tr>\n",
              "      <th>0</th>\n",
              "      <td>121815</td>\n",
              "      <td>9906</td>\n",
              "      <td>45235</td>\n",
              "      <td>1</td>\n",
              "    </tr>\n",
              "  </tbody>\n",
              "</table>\n",
              "</div>"
            ],
            "text/plain": [
              "       C1     C2     C3  Label\n",
              "0  103944  17704  53346      0\n",
              "0  126219  15082  48620      0\n",
              "0   21022  11725   2179      0\n",
              "0  134145   4952  55798      1\n",
              "0  121815   9906  45235      1"
            ]
          },
          "metadata": {
            "tags": []
          },
          "execution_count": 6
        }
      ]
    },
    {
      "cell_type": "code",
      "metadata": {
        "id": "ssvlgPwACH2j"
      },
      "source": [
        "df2=pd.DataFrame()\n",
        "for i in range(1000):\n",
        "  ii=test_set[i]\n",
        "  df2=df2.append([[ii[0],ii[1][0],ii[2][0]]])"
      ],
      "execution_count": 7,
      "outputs": []
    },
    {
      "cell_type": "code",
      "metadata": {
        "colab": {
          "base_uri": "https://localhost:8080/",
          "height": 195
        },
        "id": "I2i1H4HQf6zV",
        "outputId": "532d97b5-67c9-419e-cbdc-f4010ba2cdea"
      },
      "source": [
        "df2.head()"
      ],
      "execution_count": 8,
      "outputs": [
        {
          "output_type": "execute_result",
          "data": {
            "text/html": [
              "<div>\n",
              "<style scoped>\n",
              "    .dataframe tbody tr th:only-of-type {\n",
              "        vertical-align: middle;\n",
              "    }\n",
              "\n",
              "    .dataframe tbody tr th {\n",
              "        vertical-align: top;\n",
              "    }\n",
              "\n",
              "    .dataframe thead th {\n",
              "        text-align: right;\n",
              "    }\n",
              "</style>\n",
              "<table border=\"1\" class=\"dataframe\">\n",
              "  <thead>\n",
              "    <tr style=\"text-align: right;\">\n",
              "      <th></th>\n",
              "      <th>0</th>\n",
              "      <th>1</th>\n",
              "      <th>2</th>\n",
              "    </tr>\n",
              "  </thead>\n",
              "  <tbody>\n",
              "    <tr>\n",
              "      <th>0</th>\n",
              "      <td>114981</td>\n",
              "      <td>24265</td>\n",
              "      <td>56743</td>\n",
              "    </tr>\n",
              "    <tr>\n",
              "      <th>0</th>\n",
              "      <td>50580</td>\n",
              "      <td>42354</td>\n",
              "      <td>43604</td>\n",
              "    </tr>\n",
              "    <tr>\n",
              "      <th>0</th>\n",
              "      <td>172652</td>\n",
              "      <td>28839</td>\n",
              "      <td>49205</td>\n",
              "    </tr>\n",
              "    <tr>\n",
              "      <th>0</th>\n",
              "      <td>98577</td>\n",
              "      <td>299</td>\n",
              "      <td>17961</td>\n",
              "    </tr>\n",
              "    <tr>\n",
              "      <th>0</th>\n",
              "      <td>147658</td>\n",
              "      <td>4932</td>\n",
              "      <td>20257</td>\n",
              "    </tr>\n",
              "  </tbody>\n",
              "</table>\n",
              "</div>"
            ],
            "text/plain": [
              "        0      1      2\n",
              "0  114981  24265  56743\n",
              "0   50580  42354  43604\n",
              "0  172652  28839  49205\n",
              "0   98577    299  17961\n",
              "0  147658   4932  20257"
            ]
          },
          "metadata": {
            "tags": []
          },
          "execution_count": 8
        }
      ]
    },
    {
      "cell_type": "markdown",
      "metadata": {
        "id": "_q-V6AQ4QR8x"
      },
      "source": [
        "##Model Training"
      ]
    },
    {
      "cell_type": "code",
      "metadata": {
        "colab": {
          "base_uri": "https://localhost:8080/"
        },
        "id": "CN3QAw9XFjJc",
        "outputId": "bcad9f69-9add-4645-89c6-adffddf0938e"
      },
      "source": [
        "import gc\n",
        "import pandas as pd\n",
        "import numpy as np\n",
        "from sklearn.linear_model import LogisticRegression\n",
        "from sklearn.model_selection import train_test_split\n",
        "pos_trainDf = df[df['Label'] == 1]\n",
        "neg_trainDf = df[df['Label'] == 0].sample(n=1000, random_state=2018)\n",
        "trainDf = pd.concat([pos_trainDf, neg_trainDf], axis=0).sample(frac=1.0, random_state=2018)\n",
        "\n",
        "bin_feats = []\n",
        "cat_feats = ['C2','C3']\n",
        "con_feats = ['C1']\n",
        "\n",
        "print(trainDf.shape, trainDf['Label'].mean())\n",
        "\n",
        "trainDf, testDf, _, _ = train_test_split(trainDf, trainDf['Label'], test_size=0.25, random_state=2018)\n",
        "\n",
        "print(trainDf['Label'].mean(), trainDf.shape)\n",
        "print(testDf['Label'].mean(), testDf.shape)\n",
        "\n",
        "\n",
        "# 2. Feature Processing\n",
        "trainDf = trainDf.fillna(0)\n",
        "testDf = testDf.fillna(0)\n",
        "\n",
        "train_sz = trainDf.shape[0]\n",
        "print(trainDf.head())\n",
        "combineDf = pd.concat([trainDf, testDf], axis=0)\n",
        "\n",
        "\n",
        "# 2.1 Continuous features are all normalized\n",
        "from sklearn.preprocessing import MinMaxScaler\n",
        "\n",
        "for col in con_feats:\n",
        "    scaler = MinMaxScaler()\n",
        "    combineDf[col] = scaler.fit_transform(np.array(combineDf[col].values.tolist()).reshape(-1, 1))\n",
        "\n",
        "# 2.2 discrete features one-hot\n",
        "for col in bin_feats + cat_feats:\n",
        "    onehotret = pd.get_dummies(combineDf[col], prefix=col)\n",
        "    combineDf = pd.concat([combineDf, onehotret], axis=1)\n",
        "\n",
        "# 3. Training model\n",
        "label = 'Label'\n",
        "onehot_feats = [col for col in combineDf.columns if col not in ['Label'] + con_feats + cat_feats + bin_feats]\n",
        "train = combineDf[:train_sz]\n",
        "test = combineDf[train_sz:]\n",
        "print(\"Train.shape: {0}, Test.shape: {0}\".format(train.shape, test.shape))\n",
        "\n",
        "# 3.1 LR model\n",
        "lr_feats = con_feats + onehot_feats\n",
        "lr = LogisticRegression(penalty='l2', C=1)\n",
        "lr.fit(train[lr_feats], train[label].values)\n",
        "\n",
        "\n",
        "def do_model_metric(y_true, y_pred, y_pred_prob):\n",
        "    # print(\"Predict 1 percent: {0}\".format(np.mean(y_pred)))\n",
        "    # print(\"Label 1 percent: {0}\".format(train[label].mean()))\n",
        "    from sklearn.metrics import roc_auc_score, accuracy_score\n",
        "    print(\"AUC: {0:.3}\".format(roc_auc_score(y_true=y_true, y_score=y_pred_prob[:, 1])))\n",
        "    print(\"Accuracy: {0}\".format(accuracy_score(y_true=y_true, y_pred=y_pred)))\n",
        "\n",
        "\n",
        "print(\"Train............\")\n",
        "do_model_metric(y_true=train[label], y_pred=lr.predict(train[lr_feats]), y_pred_prob=lr.predict_proba(train[lr_feats]))\n",
        "\n",
        "print(\"\\n\\n\")\n",
        "print(\"Test.............\")\n",
        "do_model_metric(y_true=test[label], y_pred=lr.predict(test[lr_feats]), y_pred_prob=lr.predict_proba(test[lr_feats]))\n",
        "\n",
        "# 3.2 GBDT\n",
        "lgb_feats = con_feats + cat_feats + bin_feats\n",
        "categorical_feature_list = cat_feats + bin_feats\n",
        "\n",
        "import lightgbm as lgb\n",
        "\n",
        "lgb_params = {\n",
        "    'objective': 'binary',\n",
        "    'boosting_type': 'gbdt',\n",
        "    'metric': 'auc',\n",
        "    'learning_rate': 0.01,\n",
        "    'num_leaves': 5,\n",
        "    'max_depth': 4,\n",
        "    'min_data_in_leaf': 100,\n",
        "    'bagging_fraction': 0.8,\n",
        "    'feature_fraction': 0.8,\n",
        "    'bagging_freq': 10,\n",
        "    'lambda_l1': 0.2,\n",
        "    'lambda_l2': 0.2,\n",
        "    'scale_pos_weight': 1,\n",
        "}\n",
        "\n",
        "lgbtrain = lgb.Dataset(train[lgb_feats].values, label=train[label].values,\n",
        "                       feature_name=lgb_feats,\n",
        "                       categorical_feature=categorical_feature_list\n",
        "                       )\n",
        "lgbvalid = lgb.Dataset(test[lgb_feats].values, label=test[label].values,\n",
        "                       feature_name=lgb_feats,\n",
        "                       categorical_feature=categorical_feature_list\n",
        "                       )\n",
        "\n",
        "evals_results = {}\n",
        "\n",
        "lgb_model = lgb.train(lgb_params,\n",
        "                      lgbtrain,\n",
        "                      valid_sets=lgbvalid,\n",
        "                      evals_result=evals_results,\n",
        "                      num_boost_round=1000,\n",
        "                      early_stopping_rounds=60,\n",
        "                      verbose_eval=50,\n",
        "                      categorical_feature=categorical_feature_list\n",
        "                      )\n",
        "\n",
        "# 3.3 LR + GBDT\n",
        "train_sz = train.shape[0]\n",
        "combineDf = pd.concat([train, test], axis=0, ignore_index=True)\n",
        "\n",
        "# Get leaf node number Feature Transformation\n",
        "gbdt_feats_vals = lgb_model.predict(combineDf[lgb_feats], pred_leaf=True)\n",
        "gbdt_columns = [\"gbdt_leaf_indices_\" + str(i) for i in range(0, gbdt_feats_vals.shape[1])]\n",
        "\n",
        "combineDf = pd.concat(\n",
        "    [combineDf, pd.DataFrame(data=gbdt_feats_vals, index=range(0, gbdt_feats_vals.shape[0]), columns=gbdt_columns)],\n",
        "    axis=1)\n",
        "\n",
        "# onehotencoder(gbdt_feats)\n",
        "origin_columns = combineDf.columns\n",
        "for col in gbdt_columns:\n",
        "    combineDf = pd.concat([combineDf, pd.get_dummies(combineDf[col], prefix=col)], axis=1)\n",
        "gbdt_onehot_feats = [col for col in combineDf.columns if col not in origin_columns]\n",
        "\n",
        "# train, test\n",
        "train = combineDf[:train_sz]\n",
        "test = combineDf[train_sz:]\n",
        "del combineDf;\n",
        "gc.collect();\n",
        "\n",
        "lr_gbdt_feats = lr_feats + gbdt_onehot_feats\n",
        "\n",
        "lr_gbdt_model = LogisticRegression(penalty='l2', C=1,max_iter=80)\n",
        "lr_gbdt_model.fit(train[lr_gbdt_feats], train[label])\n",
        "\n",
        "print(\"Train................\")\n",
        "do_model_metric(y_true=train[label], y_pred=lr_gbdt_model.predict(train[lr_gbdt_feats]),\n",
        "                y_pred_prob=lr_gbdt_model.predict_proba(train[lr_gbdt_feats]))\n",
        "\n",
        "print(\"Test..................\")\n",
        "do_model_metric(y_true=test[label], y_pred=lr_gbdt_model.predict(test[lr_gbdt_feats]),\n",
        "                y_pred_prob=lr_gbdt_model.predict_proba(test[lr_gbdt_feats]))"
      ],
      "execution_count": 11,
      "outputs": [
        {
          "output_type": "stream",
          "text": [
            "(6044, 4) 0.8345466578424884\n",
            "0.8310169865431282 (4533, 4)\n",
            "0.8451356717405691 (1511, 4)\n",
            "       C1     C2     C3  Label\n",
            "0  185562   6306  27329      0\n",
            "0  119301  23733  46556      1\n",
            "0  175807  23587  27222      1\n",
            "0  120587   8511  14109      1\n",
            "0   30474   2270  43627      1\n",
            "Train.shape: (4533, 9647), Test.shape: (4533, 9647)\n",
            "Train............\n",
            "AUC: 1.0\n",
            "Accuracy: 0.8323406132803882\n",
            "\n",
            "\n",
            "\n",
            "Test.............\n",
            "AUC: 0.577\n",
            "Accuracy: 0.8451356717405691\n",
            "Training until validation scores don't improve for 60 rounds.\n"
          ],
          "name": "stdout"
        },
        {
          "output_type": "stream",
          "text": [
            "/usr/local/lib/python3.6/dist-packages/lightgbm/basic.py:762: UserWarning: categorical_feature in param dict is overridden.\n",
            "  warnings.warn('categorical_feature in param dict is overridden.')\n"
          ],
          "name": "stderr"
        },
        {
          "output_type": "stream",
          "text": [
            "[50]\tvalid_0's auc: 0.507685\n",
            "[100]\tvalid_0's auc: 0.498874\n",
            "Early stopping, best iteration is:\n",
            "[57]\tvalid_0's auc: 0.51063\n"
          ],
          "name": "stdout"
        },
        {
          "output_type": "stream",
          "text": [
            "/usr/local/lib/python3.6/dist-packages/sklearn/linear_model/_logistic.py:940: ConvergenceWarning: lbfgs failed to converge (status=1):\n",
            "STOP: TOTAL NO. of ITERATIONS REACHED LIMIT.\n",
            "\n",
            "Increase the number of iterations (max_iter) or scale the data as shown in:\n",
            "    https://scikit-learn.org/stable/modules/preprocessing.html\n",
            "Please also refer to the documentation for alternative solver options:\n",
            "    https://scikit-learn.org/stable/modules/linear_model.html#logistic-regression\n",
            "  extra_warning_msg=_LOGISTIC_SOLVER_CONVERGENCE_MSG)\n"
          ],
          "name": "stderr"
        },
        {
          "output_type": "stream",
          "text": [
            "Train................\n",
            "AUC: 0.998\n",
            "Accuracy: 0.8407235826163688\n",
            "Test..................\n",
            "AUC: 0.55\n",
            "Accuracy: 0.8451356717405691\n"
          ],
          "name": "stdout"
        }
      ]
    }
  ]
}